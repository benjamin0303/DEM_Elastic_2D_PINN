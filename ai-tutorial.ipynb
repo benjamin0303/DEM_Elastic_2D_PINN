{
 "cells": [
  {
   "cell_type": "markdown",
   "id": "7c123ce4-1817-4c94-8d6c-02b2228e0b17",
   "metadata": {},
   "source": [
    "## Logging in"
   ]
  },
  {
   "cell_type": "code",
   "execution_count": 7,
   "id": "d4052fe9-d8eb-4d35-9432-41b64c45414d",
   "metadata": {},
   "outputs": [
    {
     "name": "stdout",
     "output_type": "stream",
     "text": [
      "logged in\n"
     ]
    }
   ],
   "source": [
    "import warnings\n",
    "warnings.filterwarnings('ignore')\n",
    "\n",
    "\n",
    "from cybershuttle_md_cli import auth\n",
    "auth.do_authorization_flow('./settings-AI.ini')\n",
    "print(\"logged in\")"
   ]
  },
  {
   "cell_type": "markdown",
   "id": "481e50bb-83f3-4863-92df-66065e630398",
   "metadata": {},
   "source": [
    "## Launch HyperOpt for DEM"
   ]
  },
  {
   "cell_type": "code",
   "execution_count": 8,
   "id": "a8e20592-c9aa-4006-9143-e941cf719f5f",
   "metadata": {},
   "outputs": [],
   "source": [
    "from cybershuttle_md_cli.experiment_util import ExperimentUtil\n",
    "experiment_util = ExperimentUtil(\"./settings-AI.ini\")"
   ]
  },
  {
   "cell_type": "code",
   "execution_count": 9,
   "id": "fcbff419-3b37-4f58-a762-1deba155ef6b",
   "metadata": {},
   "outputs": [
    {
     "name": "stdout",
     "output_type": "stream",
     "text": [
      "assigned specified value for Activation_Function (STRING): rrelu\n",
      "using default value for Boundary_Conditions: \n",
      "assigned specified value for CNN_deviation (FLOAT): 0.1\n",
      "assigned specified value for Constant_Network_Parameters (STRING): yes\n",
      "assigned specified value for Data_points_X (INTEGER): 100\n",
      "assigned specified value for Data_points_Y (INTEGER): 25\n",
      "assigned specified value for Depth (FLOAT): 1.0\n",
      "assigned specified value for D_in (INTEGER): 2\n",
      "assigned specified value for D_out (STRING): 2\n",
      "assigned specified value for Energy_model (STRING): Elastic2D\n",
      "assigned specified value for Height (INTEGER): 1\n",
      "assigned specified value for Height_test (INTEGER): 1\n",
      "assigned specified value for Hyperparameters_Section (STRING): yes\n",
      "assigned specified value for Iterations (INTEGER): 100\n",
      "assigned specified value for Learning_rate (FLOAT): 0.01\n",
      "assigned specified value for Left_BC_Penalty (FLOAT): 1.0\n",
      "assigned specified value for Left_Dispalcement_Y (INTEGER): 0\n",
      "assigned specified value for Left_Displacement_X (INTEGER): 0\n",
      "assigned specified value for Length (INTEGER): 4\n",
      "assigned specified value for Length_test (INTEGER): 4\n",
      "assigned specified value for Load_Right_X (INTEGER): 50\n",
      "assigned specified value for Load_Right_Y (INTEGER): 0\n",
      "assigned specified value for Material_Properties (STRING): yes\n",
      "assigned specified value for Network_training_and_testing_data (STRING): yes\n",
      "assigned specified value for Neurons (INTEGER): 20\n",
      "assigned specified value for Number_of_Hidden_Layers (INTEGER): 5\n",
      "assigned specified value for Num_test_x (INTEGER): 201\n",
      "assigned specified value for Num_test_y (INTEGER): 100\n",
      "assigned specified value for Optimize_Activation_function (STRING): yes\n",
      "assigned specified value for Optimize_CNN_Dev (STRING): yes\n",
      "assigned specified value for Optimize_Hidden_Layers (STRING): yes\n",
      "assigned specified value for Optimize_Iterations (STRING): yes\n",
      "assigned specified value for Optimize_LR (STRING): yes\n",
      "assigned specified value for Optimize_Neurons (STRING): yes\n",
      "assigned specified value for Optimize_RFF_Dev (STRING): yes\n",
      "using default value for Optional_Data: None\n",
      "assigned specified value for Poisson_Ratio (FLOAT): 0.3\n",
      "assigned specified value for Right_BC_Penalty (FLOAT): 1.0\n",
      "assigned specified value for Structural_Parameters (STRING): yes\n",
      "assigned specified value for Youngs_modulus (INTEGER): 1000\n",
      "Your experiment ID is: HyperOpt_Test_JN1_baf83efa-30a6-4d54-bba8-6bd85e61d032\n"
     ]
    }
   ],
   "source": [
    "experiment_id = experiment_util.launch_HyperOpt('./',queue_name=\"gpu-shared\", \n",
    " Hyperparameters_Section='yes',                                             \n",
    " Learning_rate=0.01, Optimize_LR='yes', Neurons=20, Optimize_Neurons='yes', \n",
    " CNN_deviation=0.1, Optimize_CNN_Dev='yes', \n",
    " RFF_deviation=0.3, Optimize_RFF_Dev='yes', \n",
    " Iterations=100, Optimize_Iterations='yes', \n",
    " Number_of_Hidden_Layers=5, Optimize_Hidden_Layers='yes', \n",
    " Activation_Function=\"rrelu\", Optimize_Activation_function='yes', \n",
    " Constant_Network_Parameters='yes', \n",
    " D_in=2, D_out=2, \n",
    " Structural_Parameters='yes', \n",
    " Length=4, Height=1, Depth=1.0, \n",
    " Left_Displacement_X=0, Left_Dispalcement_Y=0, Left_BC_Penalty=1.0, \n",
    " Load_Right_X=50, Load_Right_Y=0, Right_BC_Penalty=1.0, \n",
    " Material_Properties='yes', \n",
    " Energy_model=\"Elastic2D\", Youngs_modulus=1000, Poisson_Ratio=0.3, \n",
    " Network_training_and_testing_data='yes', \n",
    " Data_points_X=100, Data_points_Y=25, Length_test=4, Height_test=1, Num_test_x=201, Num_test_y=100, \n",
    " experiment_name=\"HyperOpt_Test_JN1\",experiment_description=\"Testing HyperOpt via JuppyterNotebook\", \n",
    " computation_resource_name=\"Expanse\", node_count=1, cpu_count=16, walltime=120)\n",
    "print(f\"Your experiment ID is: {experiment_id}\")"
   ]
  },
  {
   "cell_type": "code",
   "execution_count": 10,
   "id": "1b9af195-81bb-4ef0-b2df-948a78fd0ddd",
   "metadata": {},
   "outputs": [
    {
     "name": "stdout",
     "output_type": "stream",
     "text": [
      "Monitoring experiment HyperOpt_Test_JN1\n"
     ]
    },
    {
     "data": {
      "application/vnd.jupyter.widget-view+json": {
       "model_id": "84429bdf36164a918926cb3608e8ccf0",
       "version_major": 2,
       "version_minor": 0
      },
      "text/plain": [
       "IntProgress(value=0, max=10, style=ProgressStyle(description_width='initial'))"
      ]
     },
     "execution_count": 10,
     "metadata": {},
     "output_type": "execute_result"
    }
   ],
   "source": [
    "experiment_util.monitor_experiment(experiment_id)"
   ]
  },
  {
   "cell_type": "markdown",
   "id": "5b489fcb-3146-41c8-a97e-3ebde2c434f9",
   "metadata": {},
   "source": [
    "## Download results"
   ]
  },
  {
   "cell_type": "code",
   "execution_count": null,
   "id": "12afd079-7115-476e-b33c-9f7f9cca4883",
   "metadata": {},
   "outputs": [],
   "source": [
    "experiment_util.show_namd_runs(status=\"COMPLETED\")"
   ]
  },
  {
   "cell_type": "code",
   "execution_count": null,
   "id": "9e31b455-9177-4ffb-bfa7-4580080ec51a",
   "metadata": {},
   "outputs": [],
   "source": [
    "experiment_id"
   ]
  },
  {
   "cell_type": "code",
   "execution_count": null,
   "id": "b856270d-b68b-47c6-a525-5df86232cb6b",
   "metadata": {},
   "outputs": [],
   "source": []
  }
 ],
 "metadata": {
  "kernelspec": {
   "display_name": "Python 3 (ipykernel)",
   "language": "python",
   "name": "python3"
  },
  "language_info": {
   "codemirror_mode": {
    "name": "ipython",
    "version": 3
   },
   "file_extension": ".py",
   "mimetype": "text/x-python",
   "name": "python",
   "nbconvert_exporter": "python",
   "pygments_lexer": "ipython3",
   "version": "3.11.0"
  }
 },
 "nbformat": 4,
 "nbformat_minor": 5
}
